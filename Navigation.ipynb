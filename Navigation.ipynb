{
 "cells": [
  {
   "cell_type": "markdown",
   "metadata": {},
   "source": [
    "# Navigation\n",
    "\n",
    "---\n",
    "\n",
    "You are welcome to use this coding environment to train your agent for the project.  Follow the instructions below to get started!\n",
    "\n",
    "### 1. Start the Environment\n",
    "\n",
    "Run the next code cell to install a few packages.  This line will take a few minutes to run!"
   ]
  },
  {
   "cell_type": "code",
   "execution_count": 1,
   "metadata": {},
   "outputs": [
    {
     "name": "stdout",
     "output_type": "stream",
     "text": [
      "\u001b[31mtensorflow 1.7.1 has requirement numpy>=1.13.3, but you'll have numpy 1.12.1 which is incompatible.\u001b[0m\r\n",
      "\u001b[31mipython 6.5.0 has requirement prompt-toolkit<2.0.0,>=1.0.15, but you'll have prompt-toolkit 3.0.5 which is incompatible.\u001b[0m\r\n"
     ]
    }
   ],
   "source": [
    "!pip -q install ./python"
   ]
  },
  {
   "cell_type": "markdown",
   "metadata": {},
   "source": [
    "The environment is already saved in the Workspace and can be accessed at the file path provided below.  Please run the next code cell without making any changes."
   ]
  },
  {
   "cell_type": "code",
   "execution_count": 2,
   "metadata": {},
   "outputs": [
    {
     "name": "stderr",
     "output_type": "stream",
     "text": [
      "INFO:unityagents:\n",
      "'Academy' started successfully!\n",
      "Unity Academy name: Academy\n",
      "        Number of Brains: 1\n",
      "        Number of External Brains : 1\n",
      "        Lesson number : 0\n",
      "        Reset Parameters :\n",
      "\t\t\n",
      "Unity brain name: BananaBrain\n",
      "        Number of Visual Observations (per agent): 0\n",
      "        Vector Observation space type: continuous\n",
      "        Vector Observation space size (per agent): 37\n",
      "        Number of stacked Vector Observation: 1\n",
      "        Vector Action space type: discrete\n",
      "        Vector Action space size (per agent): 4\n",
      "        Vector Action descriptions: , , , \n"
     ]
    }
   ],
   "source": [
    "from unityagents import UnityEnvironment\n",
    "import numpy as np\n",
    "\n",
    "# please do not modify the line below\n",
    "env = UnityEnvironment(file_name=\"/data/Banana_Linux_NoVis/Banana.x86_64\")"
   ]
  },
  {
   "cell_type": "markdown",
   "metadata": {},
   "source": [
    "Environments contain **_brains_** which are responsible for deciding the actions of their associated agents. Here we check for the first brain available, and set it as the default brain we will be controlling from Python."
   ]
  },
  {
   "cell_type": "code",
   "execution_count": 12,
   "metadata": {},
   "outputs": [],
   "source": [
    "# get the default brain\n",
    "brain_name = env.brain_names[0]\n",
    "brain = env.brains[brain_name]"
   ]
  },
  {
   "cell_type": "markdown",
   "metadata": {},
   "source": [
    "### 2. Examine the State and Action Spaces\n",
    "\n",
    "Run the code cell below to print some information about the environment."
   ]
  },
  {
   "cell_type": "code",
   "execution_count": 13,
   "metadata": {},
   "outputs": [
    {
     "name": "stdout",
     "output_type": "stream",
     "text": [
      "Number of agents: 1\n",
      "Number of actions: 4\n",
      "States look like: [ 0.          1.          0.          0.          0.17775278  0.          0.\n",
      "  1.          0.          0.75585073  0.          0.          1.          0.\n",
      "  0.84270549  0.          1.          0.          0.          0.32219738\n",
      "  0.          0.          0.          1.          0.          1.          0.\n",
      "  0.          0.          0.28225473  0.          0.          1.          0.\n",
      "  0.30595982  0.          0.        ]\n",
      "States have length: 37\n",
      "<unityagents.brain.BrainInfo object at 0x7fd57c3ce4a8>\n"
     ]
    }
   ],
   "source": [
    "# reset the environment\n",
    "env_info = env.reset(train_mode=True)[brain_name]\n",
    "\n",
    "# number of agents in the environment\n",
    "print('Number of agents:', len(env_info.agents))\n",
    "\n",
    "# number of actions\n",
    "action_size = brain.vector_action_space_size\n",
    "print('Number of actions:', action_size)\n",
    "\n",
    "# examine the state space \n",
    "state = env_info.vector_observations[0]\n",
    "print('States look like:', state)\n",
    "state_size = len(state)\n",
    "print('States have length:', state_size)\n",
    "\n",
    "print(env.reset(train_mode=True)[brain_name])"
   ]
  },
  {
   "cell_type": "markdown",
   "metadata": {},
   "source": [
    "### 3. Take Random Actions in the Environment\n",
    "\n",
    "In the next code cell, you will learn how to use the Python API to control the agent and receive feedback from the environment.\n",
    "\n",
    "Note that **in this coding environment, you will not be able to watch the agent while it is training**, and you should set `train_mode=True` to restart the environment."
   ]
  },
  {
   "cell_type": "code",
   "execution_count": null,
   "metadata": {},
   "outputs": [],
   "source": [
    "env_info = env.reset(train_mode=True)[brain_name] # reset the environment\n",
    "state = env_info.vector_observations[0]            # get the current state\n",
    "score = 0                                          # initialize the score\n",
    "while True:\n",
    "    action = np.random.randint(action_size)        # select an action\n",
    "    env_info = env.step(action)[brain_name]        # send the action to the environment\n",
    "    next_state = env_info.vector_observations[0]   # get the next state\n",
    "    reward = env_info.rewards[0]                   # get the reward\n",
    "    done = env_info.local_done[0]                  # see if episode has finished\n",
    "    score += reward                                # update the score\n",
    "    state = next_state                             # roll over the state to next time step\n",
    "    if done:                                       # exit loop if episode finished\n",
    "        break\n",
    "    \n",
    "print(\"Score: {}\".format(score))"
   ]
  },
  {
   "cell_type": "markdown",
   "metadata": {},
   "source": [
    "When finished, you can close the environment."
   ]
  },
  {
   "cell_type": "code",
   "execution_count": 10,
   "metadata": {},
   "outputs": [],
   "source": [
    "env.close()"
   ]
  },
  {
   "cell_type": "markdown",
   "metadata": {},
   "source": [
    "### 4. It's Your Turn!\n",
    "\n",
    "Now it's your turn to train your own agent to solve the environment!  A few **important notes**:\n",
    "- When training the environment, set `train_mode=True`, so that the line for resetting the environment looks like the following:\n",
    "```python\n",
    "env_info = env.reset(train_mode=True)[brain_name]\n",
    "```\n",
    "- To structure your work, you're welcome to work directly in this Jupyter notebook, or you might like to start over with a new file!  You can see the list of files in the workspace by clicking on **_Jupyter_** in the top left corner of the notebook.\n",
    "- In this coding environment, you will not be able to watch the agent while it is training.  However, **_after training the agent_**, you can download the saved model weights to watch the agent on your own machine! "
   ]
  },
  {
   "cell_type": "code",
   "execution_count": 4,
   "metadata": {},
   "outputs": [],
   "source": [
    "import os\n",
    "import cv2\n",
    "import google\n",
    "import json\n",
    "import numpy as np\n",
    "import torch.nn as nn\n",
    "import torch.optim as optim\n",
    "from torch.autograd import Variable\n",
    "import matplotlib.pyplot as plt\n",
    "import torch\n",
    "import random\n",
    "import torch.nn.functional as F\n",
    "from collections import  deque\n"
   ]
  },
  {
   "cell_type": "code",
   "execution_count": 5,
   "metadata": {},
   "outputs": [],
   "source": [
    "batch_size=64\n",
    "UPDATE_EVERY=10\n",
    "TAU = 1e-3      \n",
    "device = torch.device(\"cuda:0\" if torch.cuda.is_available() else \"cpu\")\n",
    "class QLearningModel(nn.Module):\n",
    "    def __init__(self,state_size=37,action_size=4):\n",
    "        super(QLearningModel,self).__init__()\n",
    "        self.relu=nn.ReLU()\n",
    "        self.fc1=torch.nn.Linear(state_size,64)\n",
    "        self.fc2=torch.nn.Linear(64, 128)\n",
    "        #self.fc3=torch.nn.Linear(128,256)\n",
    "        #self.fc4=torch.nn.Linear(256,128)\n",
    "        #self.fc5=torch.nn.Linear(128,64)\n",
    "        self.fc6=torch.nn.Linear(128,action_size)\n",
    "\n",
    "    def forward(self,state):\n",
    "        out=self.relu(self.fc1(state))\n",
    "        out=self.relu(self.fc2(out))\n",
    "        return self.fc6(out)\n",
    "        #return self.fc6(self.relu(self.fc5(self.relu(self.fc4(self.relu(self.fc3(self.relu(self.fc2(self.relu(self.fc1(state)))))))))))\n",
    "\n"
   ]
  },
  {
   "cell_type": "code",
   "execution_count": 6,
   "metadata": {},
   "outputs": [],
   "source": [
    "class ReplayBuffer():\n",
    "    def __init__(self, seed=0,buffer_size=100000):\n",
    "        self.buffer_size=buffer_size\n",
    "        self.memory = deque(maxlen=buffer_size)  \n",
    "        self.seed=torch.manual_seed(seed)\n",
    "    def add(self,state,action,reward,next_state,done):\n",
    "        self.memory.append([state,action,reward,next_state,done])\n",
    "    def sample(self):\n",
    "        experiences = random.sample(self.memory, k=batch_size)\n",
    "        states = torch.from_numpy(np.vstack([e[0] for e in experiences if e is not None])).float().to(device)\n",
    "        actions = torch.from_numpy(np.vstack([e[1] for e in experiences if e is not None])).long().to(device)\n",
    "        rewards = torch.from_numpy(np.vstack([e[2] for e in experiences if e is not None])).float().to(device)\n",
    "        next_states = torch.from_numpy(np.vstack([e[3] for e in experiences if e is not None])).float().to(device)\n",
    "        dones = torch.from_numpy(np.vstack([e[4] for e in experiences if e is not None]).astype(np.uint8)).float().to(device)\n",
    "  \n",
    "        return (states, actions, rewards, next_states, dones)\n",
    "    def __len__(self):\n",
    "        return len(self.memory)\n",
    "    "
   ]
  },
  {
   "cell_type": "code",
   "execution_count": 7,
   "metadata": {},
   "outputs": [],
   "source": [
    "class BananaAgent():\n",
    "    \n",
    "    def __init__(self,state_size=37,action_size=4,seed=0,gamma=0.9):\n",
    "        #VARIABLES\n",
    "        self.state_size=state_size\n",
    "        self.action_size=action_size\n",
    "        self.seed=torch.manual_seed(seed)\n",
    "        self.gamma=gamma\n",
    "        #MODELS\n",
    "        self.local_model=QLearningModel(self.state_size,self.action_size)\n",
    "        self.target_model=QLearningModel(self.state_size,self.action_size)\n",
    "        self.optimizer = optim.Adam(self.local_model.parameters(), lr=0.0001)\n",
    "        #REPLAY BUFFER\n",
    "        self.memory=ReplayBuffer()\n",
    "        self.t_step=0\n",
    "        \n",
    "    def step(self, state, action, reward, next_state, done):\n",
    "        self.memory.add(state, action, reward, next_state, done)\n",
    "        self.t_step = (self.t_step + 1) % UPDATE_EVERY\n",
    "        if self.t_step==0:\n",
    "            if len(self.memory) >= batch_size:\n",
    "                experiences=self.memory.sample()\n",
    "                self.learn(experiences)\n",
    "                \n",
    "    def act(self,state,ephsilon=0.0):\n",
    "        state = torch.from_numpy(state).float().unsqueeze(0).to(device)\n",
    "        self.local_model.eval()\n",
    "        with torch.no_grad():\n",
    "            q_values = self.local_model(state)\n",
    "        self.local_model.train()\n",
    "        if random.random() >= ephsilon:\n",
    "            return np.argmax(q_values.cpu().data.numpy())\n",
    "        else:\n",
    "            return random.choice(np.arange(self.action_size))\n",
    "    \n",
    "    def learn(self, experiences):\n",
    "        states, actions, rewards, next_states, dones = experiences\n",
    "        Q_targets_next = self.target_model(next_states).detach().max(1)[0].unsqueeze(1)\n",
    "        Q_targets = rewards + (self.gamma * Q_targets_next * (1 - dones))\n",
    "\n",
    "        Q_expected = self.local_model(states).gather(1, actions)\n",
    "\n",
    "        loss = F.mse_loss(Q_expected, Q_targets)\n",
    "\n",
    "        self.optimizer.zero_grad()\n",
    "        loss.backward()\n",
    "        self.optimizer.step()\n",
    "        \n",
    "        self.soft_update(self.local_model, self.target_model, TAU)      \n",
    "        \n",
    "    def soft_update(self, local_model, target_model, tau):\n",
    "\n",
    "        for target_param, local_param in zip(target_model.parameters(), local_model.parameters()):\n",
    "            target_param.data.copy_(tau*local_param.data + (1.0-tau)*target_param.data)\n",
    "            \n"
   ]
  },
  {
   "cell_type": "code",
   "execution_count": 8,
   "metadata": {},
   "outputs": [],
   "source": [
    "agent=BananaAgent()\n",
    "\n",
    "def reset(env):\n",
    "    env_info = env.reset(train_mode=True)[brain_name] # reset the environment\n",
    "    return env_info.vector_observations[0]\n",
    "def step(env,action):\n",
    "    env_info = env.step(action)[brain_name]       \n",
    "    next_state = env_info.vector_observations[0]  \n",
    "    reward = env_info.rewards[0]                  \n",
    "    done = env_info.local_done[0]                 \n",
    "    return next_state,reward,done\n",
    "def training(n_episodes=2000,eps=1.0, eps_end=0.01, eps_decay=0.995):\n",
    "    scores=[]\n",
    "    scores_window = deque(maxlen=100)  \n",
    "    for i_episode in range(1,n_episodes+1):\n",
    "        state=reset(env)\n",
    "        score=0\n",
    "        while True:\n",
    "            action=agent.act(state,eps)\n",
    "            next_state,reward,done=step(env,action)\n",
    "            score+=reward\n",
    "            agent.step(state,action,reward,next_state,done)\n",
    "            state=next_state\n",
    "            if done:\n",
    "                break\n",
    "            \n",
    "        eps = max(eps_end, eps_decay*eps)\n",
    "        scores_window.append(score)      \n",
    "        scores.append(score)             \n",
    "        print('\\rEpisode {}\\tAverage Score: {:.2f}'.format(i_episode, np.mean(scores_window)), end=\"\")\n",
    "        if i_episode % 100 == 0:\n",
    "            print('\\rEpisode {}\\tAverage Score: {:.2f}'.format(i_episode, np.mean(scores_window)))\n",
    "        if np.mean(scores_window)>=200.0:\n",
    "            print('\\nEnvironment solved in {:d} episodes!\\tAverage Score: {:.2f}'.format(i_episode-100, np.mean(scores_window)))\n",
    "            break\n",
    "    return scores\n",
    "        "
   ]
  },
  {
   "cell_type": "code",
   "execution_count": 9,
   "metadata": {
    "scrolled": true
   },
   "outputs": [
    {
     "name": "stdout",
     "output_type": "stream",
     "text": [
      "Episode 100\tAverage Score: 0.55\n",
      "Episode 200\tAverage Score: 2.31\n",
      "Episode 300\tAverage Score: 5.22\n",
      "Episode 400\tAverage Score: 6.93\n",
      "Episode 500\tAverage Score: 8.47\n",
      "Episode 600\tAverage Score: 8.45\n",
      "Episode 700\tAverage Score: 10.18\n",
      "Episode 800\tAverage Score: 12.29\n",
      "Episode 900\tAverage Score: 13.37\n",
      "Episode 1000\tAverage Score: 14.54\n",
      "Episode 1100\tAverage Score: 14.54\n",
      "Episode 1200\tAverage Score: 14.21\n",
      "Episode 1300\tAverage Score: 15.52\n",
      "Episode 1400\tAverage Score: 14.41\n",
      "Episode 1500\tAverage Score: 15.11\n",
      "Episode 1600\tAverage Score: 14.69\n",
      "Episode 1700\tAverage Score: 14.75\n",
      "Episode 1800\tAverage Score: 14.57\n",
      "Episode 1900\tAverage Score: 14.70\n",
      "Episode 2000\tAverage Score: 14.42\n"
     ]
    },
    {
     "data": {
      "image/png": "[encoded data removed]",
      "text/plain": [
       "<matplotlib.figure.Figure at 0x7fd57c3cee48>"
      ]
     },
     "metadata": {
      "needs_background": "light"
     },
     "output_type": "display_data"
    }
   ],
   "source": [
    "scores = training()\n",
    "\n",
    "# plot the scores\n",
    "fig = plt.figure()\n",
    "ax = fig.add_subplot(111)\n",
    "plt.plot(np.arange(len(scores)), scores)\n",
    "plt.ylabel('Score')\n",
    "plt.xlabel('Episode #')\n",
    "plt.show()"
   ]
  },
  {
   "cell_type": "code",
   "execution_count": 11,
   "metadata": {},
   "outputs": [
    {
     "name": "stdout",
     "output_type": "stream",
     "text": [
      "Testing:\n",
      "Episode 99\tScore: 15.00\n",
      "Average score 15.36\n"
     ]
    },
    {
     "data": {
      "text/plain": [
       "1536.0"
      ]
     },
     "execution_count": 11,
     "metadata": {},
     "output_type": "execute_result"
    }
   ],
   "source": [
    "def testing():\n",
    "    score=0\n",
    "    print(\"Testing:\")\n",
    "    for i_episode in range(100):\n",
    "        state=reset(env)\n",
    "        outscore=0\n",
    "        while True:\n",
    "            action=agent.act(state)\n",
    "            next_state,reward,done=step(env,action)\n",
    "            outscore+=reward\n",
    "            state=next_state\n",
    "            print('\\rEpisode {}\\tScore: {:.2f}'.format(i_episode, outscore), end=\"\")\n",
    "            if done:\n",
    "                break\n",
    "        score+=outscore\n",
    "    print('\\nAverage score',score/100)\n",
    "    return score\n",
    "testing()"
   ]
  },
  {
   "cell_type": "code",
   "execution_count": null,
   "metadata": {},
   "outputs": [],
   "source": []
  }
 ],
 "metadata": {
  "kernelspec": {
   "display_name": "Python 3",
   "language": "python",
   "name": "python3"
  },
  "language_info": {
   "codemirror_mode": {
    "name": "ipython",
    "version": 3
   },
   "file_extension": ".py",
   "mimetype": "text/x-python",
   "name": "python",
   "nbconvert_exporter": "python",
   "pygments_lexer": "ipython3",
   "version": "3.6.3"
  }
 },
 "nbformat": 4,
 "nbformat_minor": 2
}
